{
  "nbformat": 4,
  "nbformat_minor": 0,
  "metadata": {
    "colab": {
      "name": "Pytorch_FashionMNIST",
      "provenance": []
    },
    "kernelspec": {
      "name": "python3",
      "display_name": "Python 3"
    },
    "accelerator": "GPU"
  },
  "cells": [
    {
      "cell_type": "markdown",
      "metadata": {
        "id": "lJgBHQcPZhH3",
        "colab_type": "text"
      },
      "source": [
        "Import all the libraries needed."
      ]
    },
    {
      "cell_type": "code",
      "metadata": {
        "id": "UDtoG6ldI7C9",
        "colab_type": "code",
        "colab": {}
      },
      "source": [
        "import torch\n",
        "import torchvision\n",
        "import numpy as np\n",
        "import matplotlib.pyplot as plt\n",
        "import torch.nn as nn\n",
        "import torch.nn.functional as F\n",
        "from torchvision.datasets import MNIST, FashionMNIST, ImageFolder\n",
        "import torchvision.transforms as transforms\n",
        "# from torchvision.transforms import ToTensor, Compose, Resize\n",
        "from torchvision.utils import make_grid\n",
        "from torch.utils.data.dataloader import DataLoader\n",
        "from torch.utils.data import random_split\n",
        "%matplotlib inline\n"
      ],
      "execution_count": 23,
      "outputs": []
    },
    {
      "cell_type": "markdown",
      "metadata": {
        "id": "gKwXH8gyZrsf",
        "colab_type": "text"
      },
      "source": [
        "We create a transform to resize the image and convert it to a tensor."
      ]
    },
    {
      "cell_type": "code",
      "metadata": {
        "id": "FKABXdBnZesk",
        "colab_type": "code",
        "colab": {}
      },
      "source": [
        "IMAGE_SIZE = 16\n",
        "\n",
        "composed = transforms.Compose([transforms.Resize((IMAGE_SIZE, IMAGE_SIZE)), transforms.ToTensor()])\n",
        "# composed = Compose([Resize((IMAGE_SIZE, IMAGE_SIZE)), ToTensor()])"
      ],
      "execution_count": 24,
      "outputs": []
    },
    {
      "cell_type": "markdown",
      "metadata": {
        "id": "I1cKaEmVZ6-U",
        "colab_type": "text"
      },
      "source": [
        "Loading the training dataset. We can load the training dataset by setting train=True."
      ]
    },
    {
      "cell_type": "code",
      "metadata": {
        "id": "u8RaEb32JGnC",
        "colab_type": "code",
        "colab": {}
      },
      "source": [
        "# dataset = FashionMNIST(root='data/', download=True, transform=ToTensor())\n",
        "train_dataset = FashionMNIST(root='data/',train=True, download=True, transform=composed)"
      ],
      "execution_count": 25,
      "outputs": []
    },
    {
      "cell_type": "markdown",
      "metadata": {
        "id": "jvKIaemjaF5Y",
        "colab_type": "text"
      },
      "source": [
        "Let us evaluate the number of images present in the training dataset."
      ]
    },
    {
      "cell_type": "code",
      "metadata": {
        "id": "YrhwvuuxvPI0",
        "colab_type": "code",
        "colab": {
          "base_uri": "https://localhost:8080/",
          "height": 34
        },
        "outputId": "5fab3a5e-73ff-4c7b-e4e4-0d933a777002"
      },
      "source": [
        "len(train_dataset)"
      ],
      "execution_count": 26,
      "outputs": [
        {
          "output_type": "execute_result",
          "data": {
            "text/plain": [
              "60000"
            ]
          },
          "metadata": {
            "tags": []
          },
          "execution_count": 26
        }
      ]
    },
    {
      "cell_type": "markdown",
      "metadata": {
        "id": "tyLeKKMjaU7p",
        "colab_type": "text"
      },
      "source": [
        "Download validation set by turning train=False"
      ]
    },
    {
      "cell_type": "code",
      "metadata": {
        "id": "v-9oTsRVuc4j",
        "colab_type": "code",
        "colab": {}
      },
      "source": [
        "test_dataset = FashionMNIST(root='data/', train=False, download=True, transform=composed)"
      ],
      "execution_count": 27,
      "outputs": []
    },
    {
      "cell_type": "markdown",
      "metadata": {
        "id": "qh7X2PCgcWdM",
        "colab_type": "text"
      },
      "source": [
        "Let us see the number of samples present in the test dataset."
      ]
    },
    {
      "cell_type": "code",
      "metadata": {
        "id": "6zGBme77vS3E",
        "colab_type": "code",
        "colab": {
          "base_uri": "https://localhost:8080/",
          "height": 34
        },
        "outputId": "b9381189-659e-4df0-f3fc-a525371f1a25"
      },
      "source": [
        "len(test_dataset)"
      ],
      "execution_count": 28,
      "outputs": [
        {
          "output_type": "execute_result",
          "data": {
            "text/plain": [
              "10000"
            ]
          },
          "metadata": {
            "tags": []
          },
          "execution_count": 28
        }
      ]
    },
    {
      "cell_type": "markdown",
      "metadata": {
        "id": "juyuM6m1ciCP",
        "colab_type": "text"
      },
      "source": [
        "Show the label for the first element in the training dataset."
      ]
    },
    {
      "cell_type": "code",
      "metadata": {
        "id": "IXaWZekYvdJB",
        "colab_type": "code",
        "colab": {
          "base_uri": "https://localhost:8080/",
          "height": 34
        },
        "outputId": "01a91173-6c44-4723-a350-e010b5a5a117"
      },
      "source": [
        "\n",
        "\n",
        "train_dataset[0][1]"
      ],
      "execution_count": 29,
      "outputs": [
        {
          "output_type": "execute_result",
          "data": {
            "text/plain": [
              "9"
            ]
          },
          "metadata": {
            "tags": []
          },
          "execution_count": 29
        }
      ]
    },
    {
      "cell_type": "markdown",
      "metadata": {
        "id": "y1QQTD2Dcv9Q",
        "colab_type": "text"
      },
      "source": [
        "Created a function to show the images."
      ]
    },
    {
      "cell_type": "code",
      "metadata": {
        "id": "jAPlrfBDv6CX",
        "colab_type": "code",
        "colab": {}
      },
      "source": [
        "def show_data(data_sample):\n",
        "    plt.imshow(data_sample[0].numpy().reshape(IMAGE_SIZE, IMAGE_SIZE), cmap='gray')\n",
        "    plt.title('y = '+ str(data_sample[1]))"
      ],
      "execution_count": 30,
      "outputs": []
    },
    {
      "cell_type": "code",
      "metadata": {
        "id": "SH3Z3Zxkc5kZ",
        "colab_type": "code",
        "colab": {}
      },
      "source": [
        ""
      ],
      "execution_count": 30,
      "outputs": []
    },
    {
      "cell_type": "markdown",
      "metadata": {
        "id": "b5jbqGcOc6iy",
        "colab_type": "text"
      },
      "source": [
        "Let us see select any random image. For example let us see how the sixth image of the training dataset looks like."
      ]
    },
    {
      "cell_type": "code",
      "metadata": {
        "id": "-HSffeqCv6I_",
        "colab_type": "code",
        "colab": {
          "base_uri": "https://localhost:8080/",
          "height": 281
        },
        "outputId": "bcc3a202-5574-4bfb-f29b-6d3d4aaa9d3d"
      },
      "source": [
        "\n",
        "show_data(train_dataset[5])"
      ],
      "execution_count": 31,
      "outputs": [
        {
          "output_type": "display_data",
          "data": {
            "image/png": "[encoded data removed]",
            "text/plain": [
              "<Figure size 432x288 with 1 Axes>"
            ]
          },
          "metadata": {
            "tags": [],
            "needs_background": "light"
          }
        }
      ]
    },
    {
      "cell_type": "markdown",
      "metadata": {
        "id": "lXsKb5PGdJ-N",
        "colab_type": "text"
      },
      "source": [
        "We see that the images are of very low resolution. This will result in fewer parameters and will help in training the model faster. Correspondinly, let us try to visualize the fourth element from the test dataset."
      ]
    },
    {
      "cell_type": "code",
      "metadata": {
        "id": "UrdXVcUYv6Mc",
        "colab_type": "code",
        "colab": {
          "base_uri": "https://localhost:8080/",
          "height": 281
        },
        "outputId": "71ea94ae-527c-47fe-b869-b1afcf136296"
      },
      "source": [
        "show_data(test_dataset[3])"
      ],
      "execution_count": 32,
      "outputs": [
        {
          "output_type": "display_data",
          "data": {
            "image/png": "[encoded data removed]",
            "text/plain": [
              "<Figure size 432x288 with 1 Axes>"
            ]
          },
          "metadata": {
            "tags": [],
            "needs_background": "light"
          }
        }
      ]
    },
    {
      "cell_type": "markdown",
      "metadata": {
        "id": "VfoGfuubd54l",
        "colab_type": "text"
      },
      "source": [
        "Now, let's try to see how the image and the label tensors look like."
      ]
    },
    {
      "cell_type": "code",
      "metadata": {
        "id": "2VmgjwWeJS3S",
        "colab_type": "code",
        "colab": {
          "base_uri": "https://localhost:8080/",
          "height": 578
        },
        "outputId": "360c9d7f-0059-4869-f2ad-9f4ee036a525"
      },
      "source": [
        "img, label = train_dataset[0]\n",
        "print(img.shape, label)\n",
        "img"
      ],
      "execution_count": 33,
      "outputs": [
        {
          "output_type": "stream",
          "text": [
            "torch.Size([1, 16, 16]) 9\n"
          ],
          "name": "stdout"
        },
        {
          "output_type": "execute_result",
          "data": {
            "text/plain": [
              "tensor([[[0.0000, 0.0000, 0.0000, 0.0000, 0.0000, 0.0000, 0.0000, 0.0000,\n",
              "          0.0000, 0.0000, 0.0000, 0.0000, 0.0000, 0.0000, 0.0000, 0.0000],\n",
              "         [0.0000, 0.0000, 0.0000, 0.0000, 0.0000, 0.0000, 0.0000, 0.0000,\n",
              "          0.0078, 0.0431, 0.0000, 0.0039, 0.0000, 0.0000, 0.0000, 0.0000],\n",
              "         [0.0000, 0.0000, 0.0000, 0.0000, 0.0000, 0.0000, 0.0039, 0.0235,\n",
              "          0.2588, 0.4039, 0.2000, 0.0549, 0.0039, 0.0078, 0.0078, 0.0078],\n",
              "         [0.0000, 0.0000, 0.0000, 0.0000, 0.0000, 0.0000, 0.0039, 0.0863,\n",
              "          0.6039, 0.7451, 0.5569, 0.4314, 0.2353, 0.1529, 0.2588, 0.1451],\n",
              "         [0.0000, 0.0000, 0.0000, 0.0000, 0.0000, 0.0000, 0.0039, 0.3098,\n",
              "          0.8039, 0.8706, 0.8039, 0.6863, 0.5843, 0.5059, 0.5725, 0.3961],\n",
              "         [0.0000, 0.0000, 0.0000, 0.0000, 0.0000, 0.0000, 0.0000, 0.4510,\n",
              "          0.8588, 0.8667, 0.8588, 0.8588, 0.8392, 0.8000, 0.8510, 0.3686],\n",
              "         [0.0000, 0.0000, 0.0000, 0.0000, 0.0000, 0.0039, 0.0235, 0.5373,\n",
              "          0.8588, 0.8275, 0.7529, 0.8392, 0.8510, 0.8627, 0.8039, 0.4471],\n",
              "         [0.0000, 0.0000, 0.0039, 0.0039, 0.0000, 0.0078, 0.0745, 0.6706,\n",
              "          0.8863, 0.8745, 0.8510, 0.8510, 0.8706, 0.8706, 0.7137, 0.2863],\n",
              "         [0.0000, 0.0039, 0.0157, 0.0196, 0.0275, 0.1451, 0.4078, 0.8235,\n",
              "          0.8588, 0.8627, 0.8588, 0.8588, 0.8745, 0.8627, 0.8314, 0.2392],\n",
              "         [0.0353, 0.1843, 0.2784, 0.3804, 0.5176, 0.7333, 0.8275, 0.8196,\n",
              "          0.8235, 0.8353, 0.9020, 0.8431, 0.8549, 0.9059, 0.9020, 0.4000],\n",
              "         [0.3647, 0.8000, 0.8627, 0.8549, 0.8431, 0.8196, 0.8392, 0.6863,\n",
              "          0.6824, 0.7804, 0.7843, 0.7961, 0.8392, 0.8431, 0.8902, 0.4431],\n",
              "         [0.5569, 0.8078, 0.8157, 0.8431, 0.8706, 0.8000, 0.8118, 0.8196,\n",
              "          0.6706, 0.7059, 0.8000, 0.8392, 0.8235, 0.8392, 0.8667, 0.5373],\n",
              "         [0.3765, 0.7412, 0.7608, 0.7412, 0.7686, 0.7843, 0.8196, 0.8353,\n",
              "          0.8392, 0.8353, 0.8039, 0.7725, 0.7294, 0.6941, 0.7647, 0.5843],\n",
              "         [0.0588, 0.3373, 0.6314, 0.7412, 0.7686, 0.8000, 0.8118, 0.8000,\n",
              "          0.7843, 0.7765, 0.7765, 0.7765, 0.7255, 0.6824, 0.6118, 0.2863],\n",
              "         [0.0000, 0.0000, 0.0824, 0.2392, 0.3451, 0.3804, 0.3647, 0.2824,\n",
              "          0.2314, 0.2078, 0.2000, 0.2000, 0.1882, 0.1608, 0.0627, 0.0039],\n",
              "         [0.0000, 0.0000, 0.0000, 0.0000, 0.0078, 0.0118, 0.0078, 0.0039,\n",
              "          0.0000, 0.0000, 0.0000, 0.0000, 0.0000, 0.0000, 0.0000, 0.0000]]])"
            ]
          },
          "metadata": {
            "tags": []
          },
          "execution_count": 33
        }
      ]
    },
    {
      "cell_type": "markdown",
      "metadata": {
        "id": "F_czNk2ld98x",
        "colab_type": "text"
      },
      "source": [
        "Model Building using Convolutional Neural Network."
      ]
    },
    {
      "cell_type": "markdown",
      "metadata": {
        "id": "neeHzQHheFg1",
        "colab_type": "text"
      },
      "source": [
        "After doing an initial exploratory analysis on the data, let us build a Convolutional Network class with two Convolutional layers and one fully connected layer. Pre-determine the size of the final output matrix. The parameters in the constructor are the number of output channels for the first and second layer."
      ]
    },
    {
      "cell_type": "code",
      "metadata": {
        "id": "1Dgqw1Xyw90e",
        "colab_type": "code",
        "colab": {}
      },
      "source": [
        "class CNN(nn.Module):\n",
        "    \n",
        "    # Contructor\n",
        "    def __init__(self, out_1=16, out_2=32):\n",
        "        super(CNN, self).__init__()\n",
        "        self.cnn1 = nn.Conv2d(in_channels=1, out_channels=out_1, kernel_size=5, padding=2)\n",
        "        self.relu1 = nn.ReLU()\n",
        "        self.maxpool1 = nn.MaxPool2d(kernel_size=2)\n",
        "        self.cnn2 = nn.Conv2d(in_channels=out_1, out_channels=out_2, kernel_size=5, stride=1, padding=2)\n",
        "        self.relu2 = nn.ReLU()\n",
        "        self.maxpool2 = nn.MaxPool2d(kernel_size=2)\n",
        "        self.fc1 = nn.Linear(out_2 * 4 * 4, 10)\n",
        "    \n",
        "    # Prediction\n",
        "    def forward(self, x):\n",
        "        out = self.cnn1(x)\n",
        "        out = self.relu1(out)\n",
        "        out = self.maxpool1(out)\n",
        "        out = self.cnn2(out)\n",
        "        out = self.relu2(out)\n",
        "        out = self.maxpool2(out)\n",
        "        out = out.view(out.size(0), -1)\n",
        "        out = self.fc1(out)\n",
        "        return out\n",
        "    \n",
        "    # Outputs in each steps\n",
        "    def activations(self, x):\n",
        "        \n",
        "        z1 = self.cnn1(x)\n",
        "        a1 = self.relu1(z1)\n",
        "        out = self.maxpool1(a1)\n",
        "        \n",
        "        z2 = self.cnn2(out)\n",
        "        a2 = self.relu2(z2)\n",
        "        out = self.maxpool2(a2)\n",
        "        out = out.view(out.size(0),-1)\n",
        "        return z1, a1, z2, a2, out"
      ],
      "execution_count": 34,
      "outputs": []
    },
    {
      "cell_type": "code",
      "metadata": {
        "id": "1U-xNTUGxFte",
        "colab_type": "code",
        "colab": {}
      },
      "source": [
        "model = CNN(out_1=16, out_2=32)"
      ],
      "execution_count": 35,
      "outputs": []
    },
    {
      "cell_type": "markdown",
      "metadata": {
        "id": "fMn8xSGPeX6A",
        "colab_type": "text"
      },
      "source": [
        "Now let us define the loss function, optimizer and dataset loader."
      ]
    },
    {
      "cell_type": "code",
      "metadata": {
        "id": "8WY8blKsxFw3",
        "colab_type": "code",
        "colab": {}
      },
      "source": [
        "criterion = nn.CrossEntropyLoss()\n",
        "learning_rate = 0.1\n",
        "optimizer = torch.optim.SGD(model.parameters(), lr = learning_rate)\n",
        "train_loader = torch.utils.data.DataLoader(dataset=train_dataset, batch_size=100)\n",
        "test_loader = torch.utils.data.DataLoader(dataset=test_dataset, batch_size=5000)"
      ],
      "execution_count": 36,
      "outputs": []
    },
    {
      "cell_type": "markdown",
      "metadata": {
        "id": "TMz8XJKXel8J",
        "colab_type": "text"
      },
      "source": [
        "Set all the hyperparameters and start training the model."
      ]
    },
    {
      "cell_type": "code",
      "metadata": {
        "id": "jCmRwNQKxF63",
        "colab_type": "code",
        "colab": {}
      },
      "source": [
        "n_epochs= 10\n",
        "loss_list=[]\n",
        "accuracy_list=[]\n",
        "N_test=len(test_dataset)\n",
        "\n",
        "def train_model(n_epochs):\n",
        "    for epoch in range(n_epochs):\n",
        "        for x, y in train_loader:\n",
        "            optimizer.zero_grad()\n",
        "            z = model(x)\n",
        "            loss = criterion(z, y)\n",
        "            loss.backward()\n",
        "            optimizer.step()\n",
        "\n",
        "        correct=0\n",
        "        #perform a prediction on the validation  data  \n",
        "        for x_test, y_test in test_loader:\n",
        "            z = model(x_test)\n",
        "            _, yhat = torch.max(z.data, 1)\n",
        "            correct += (yhat == y_test).sum().item()\n",
        "        accuracy = correct / N_test\n",
        "        accuracy_list.append(accuracy)\n",
        "        loss_list.append(loss.data)\n",
        "train_model(n_epochs)"
      ],
      "execution_count": 37,
      "outputs": []
    },
    {
      "cell_type": "markdown",
      "metadata": {
        "id": "8fD2VoRFesG1",
        "colab_type": "text"
      },
      "source": [
        "Let us analyse the loss values so far."
      ]
    },
    {
      "cell_type": "code",
      "metadata": {
        "id": "27aA1QTD8lxf",
        "colab_type": "code",
        "colab": {
          "base_uri": "https://localhost:8080/",
          "height": 187
        },
        "outputId": "e115f1a4-84a8-4b48-c1c3-5a29c548f78e"
      },
      "source": [
        "loss_list"
      ],
      "execution_count": 38,
      "outputs": [
        {
          "output_type": "execute_result",
          "data": {
            "text/plain": [
              "[tensor(0.4581),\n",
              " tensor(0.3544),\n",
              " tensor(0.3096),\n",
              " tensor(0.2822),\n",
              " tensor(0.2704),\n",
              " tensor(0.2558),\n",
              " tensor(0.2438),\n",
              " tensor(0.2363),\n",
              " tensor(0.2318),\n",
              " tensor(0.2259)]"
            ]
          },
          "metadata": {
            "tags": []
          },
          "execution_count": 38
        }
      ]
    },
    {
      "cell_type": "markdown",
      "metadata": {
        "id": "P0pPQJGZe1iv",
        "colab_type": "text"
      },
      "source": [
        "The final loss after the model completes all the epochs."
      ]
    },
    {
      "cell_type": "code",
      "metadata": {
        "id": "xO0nxSs18l5U",
        "colab_type": "code",
        "colab": {
          "base_uri": "https://localhost:8080/",
          "height": 34
        },
        "outputId": "42f28c12-4326-4544-e39d-aa0e5ec381f2"
      },
      "source": [
        "final_loss = loss_list[-1]\n",
        "final_loss"
      ],
      "execution_count": 39,
      "outputs": [
        {
          "output_type": "execute_result",
          "data": {
            "text/plain": [
              "tensor(0.2259)"
            ]
          },
          "metadata": {
            "tags": []
          },
          "execution_count": 39
        }
      ]
    },
    {
      "cell_type": "markdown",
      "metadata": {
        "id": "LQx8NFDJe9me",
        "colab_type": "text"
      },
      "source": [
        "Similarly, let us analyze the list of accuracy values."
      ]
    },
    {
      "cell_type": "code",
      "metadata": {
        "id": "Qeu4UOYv8xPn",
        "colab_type": "code",
        "colab": {
          "base_uri": "https://localhost:8080/",
          "height": 34
        },
        "outputId": "f6800bb3-dfe6-40aa-cfe8-bc74e61e42f9"
      },
      "source": [
        "accuracy_list"
      ],
      "execution_count": 40,
      "outputs": [
        {
          "output_type": "execute_result",
          "data": {
            "text/plain": [
              "[0.8057, 0.8366, 0.8483, 0.8577, 0.8641, 0.8693, 0.8737, 0.8773, 0.8798, 0.882]"
            ]
          },
          "metadata": {
            "tags": []
          },
          "execution_count": 40
        }
      ]
    },
    {
      "cell_type": "markdown",
      "metadata": {
        "id": "htkhw-obfDf9",
        "colab_type": "text"
      },
      "source": [
        "See the final accuracy of the trained model."
      ]
    },
    {
      "cell_type": "code",
      "metadata": {
        "id": "PcT9-Mi78xTG",
        "colab_type": "code",
        "colab": {
          "base_uri": "https://localhost:8080/",
          "height": 34
        },
        "outputId": "7855c824-375f-4966-d752-ae00ba3f438f"
      },
      "source": [
        "final_accuracy = accuracy_list[-1]\n",
        "final_accuracy"
      ],
      "execution_count": 41,
      "outputs": [
        {
          "output_type": "execute_result",
          "data": {
            "text/plain": [
              "0.882"
            ]
          },
          "metadata": {
            "tags": []
          },
          "execution_count": 41
        }
      ]
    },
    {
      "cell_type": "markdown",
      "metadata": {
        "id": "oQI0YSw3fIPy",
        "colab_type": "text"
      },
      "source": [
        "As we can see, the model achieved a decent accuracy score of 86% using a simple CNN architecture. Here's a plot showing how the model accuracy improves as it is trained for more number of epochs."
      ]
    },
    {
      "cell_type": "code",
      "metadata": {
        "id": "zT6_4k4ZxlDo",
        "colab_type": "code",
        "colab": {
          "base_uri": "https://localhost:8080/",
          "height": 279
        },
        "outputId": "4d5d95ce-3093-4ff3-8913-ba4b036e39ec"
      },
      "source": [
        "fig, ax1 = plt.subplots()\n",
        "color = 'tab:red'\n",
        "ax1.plot(loss_list, color=color)\n",
        "ax1.set_xlabel('epoch', color=color)\n",
        "ax1.set_ylabel('total loss', color=color)\n",
        "ax1.tick_params(axis='y', color=color)\n",
        "    \n"
      ],
      "execution_count": 42,
      "outputs": [
        {
          "output_type": "display_data",
          "data": {
            "image/png": "[encoded data removed]",
            "text/plain": [
              "<Figure size 432x288 with 1 Axes>"
            ]
          },
          "metadata": {
            "tags": [],
            "needs_background": "light"
          }
        }
      ]
    },
    {
      "cell_type": "markdown",
      "metadata": {
        "id": "T10LZ6CKjU4v",
        "colab_type": "text"
      },
      "source": [
        "We see that the loss has almost flattened out by the end of 10 epochs and continues to decrease very gradually."
      ]
    }
  ]
}